{
 "cells": [
  {
   "cell_type": "markdown",
   "metadata": {},
   "source": [
    "# Scissor Jack Optimizer"
   ]
  },
  {
   "cell_type": "code",
   "execution_count": null,
   "metadata": {},
   "outputs": [],
   "source": [
    "# import packages here\n",
    "using SNOW\n",
    "using Plots"
   ]
  },
  {
   "cell_type": "code",
   "execution_count": null,
   "metadata": {},
   "outputs": [
    {
     "data": {
      "text/plain": [
       "BSSF"
      ]
     },
     "metadata": {},
     "output_type": "display_data"
    }
   ],
   "source": [
    "# Definition of structs for components of jack\n",
    "\"\"\"\n",
    "Diagonal member\n",
    "This is the struct object for the diagonal members. It assumes that they are all U-cross_bar_bearing_stress\n",
    "\n",
    "t is the thickness of the diagonal member in inches\n",
    "w is the width of the diagonal member in inches\n",
    "S_y is the yield strength of the diagonal member in psi\n",
    "ppi is the price per inch of the diagonal member in USD/inch\n",
    "\"\"\"\n",
    "struct DiagonalMember\n",
    "    t::Float32\n",
    "    w::Float32\n",
    "    S_y::Float32\n",
    "    ppi::Float32\n",
    "end\n",
    "\n",
    "\"\"\"\n",
    "Crossbar\n",
    "This is the struct object for the crossbars. It assumes that they are all square bars.\n",
    "\n",
    "t is the thickness of the crossbar in inches\n",
    "w is the width of the crossbar in inches\n",
    "S_y is the yield strength of the crossbar in psi\n",
    "E is the modulus of elasticity of the crossbar in psi\n",
    "ppi is the price per inch of the crossbar in USD/inch\n",
    "\"\"\"\n",
    "struct Crossbar\n",
    "    t::Float32\n",
    "    w::Float32\n",
    "    S_y::Float32\n",
    "    E::Float32\n",
    "    ppi::Float32\n",
    "end\n",
    "\n",
    "\"\"\"\n",
    "Pin\n",
    "This is the struct object for the pins.\n",
    "\n",
    "d is the diameter of the pin in inches\n",
    "S_y is the yield strength of the pin in psi\n",
    "p is the price for a singular pin in USD\n",
    "\"\"\"\n",
    "struct Pin\n",
    "    t::Float32\n",
    "    w::Float32\n",
    "    S_y::Float32\n",
    "    E::Float32\n",
    "    ppi::Float32\n",
    "end\n",
    "\n",
    "# definition of Best Solution So Far (BSSF) struct\n",
    "\"\"\"\n",
    "BSSF\n",
    "This is the struct object for the Best Solution So Far (BSSF)\n",
    "\n",
    "p is the price\n",
    "diag is the struct object for the diagonal member\n",
    "cross is the struct object for the crossbar\n",
    "pin is the struct object for the pin\n",
    "len_d is the length of the diagonal members\n",
    "len_cb is the length of the crossbar\n",
    "hole_d is the length from the center of the hole to the edge of the member for the diagonal members\n",
    "hole_cb is the length from the center of the hole to the edge of the member for the crossbar\n",
    "\"\"\"\n",
    "mutable struct BSSF\n",
    "    p::Float16\n",
    "    diag::DiagonalMember\n",
    "    cross::Crossbar\n",
    "    pin::Pin\n",
    "    len_d::Float32\n",
    "    len_cb::Float32\n",
    "    hole_d::Float32\n",
    "    hole_cb::Float32\n",
    "end"
   ]
  },
  {
   "cell_type": "markdown",
   "metadata": {},
   "source": [
    "## Pseudocode for search method\n",
    "\n",
    "for pin in pins\n",
    "\n",
    "&nbsp; &nbsp; &nbsp; &nbsp; for diag in diagonal_members\n",
    "\n",
    "&nbsp; &nbsp; &nbsp; &nbsp; &nbsp; &nbsp; &nbsp; &nbsp; for cross in crossbars\n",
    "\n",
    "&nbsp; &nbsp; &nbsp; &nbsp; &nbsp; &nbsp; &nbsp; &nbsp; &nbsp; &nbsp; &nbsp; &nbsp; objective = make objective(cross, diag, pin, applied_force, end_condition_constant)\n",
    "\n",
    "&nbsp; &nbsp; &nbsp; &nbsp; &nbsp; &nbsp; &nbsp; &nbsp; &nbsp; &nbsp; &nbsp; &nbsp; other optimizer inputs\n",
    "\n",
    "&nbsp; &nbsp; &nbsp; &nbsp; &nbsp; &nbsp; &nbsp; &nbsp; &nbsp; &nbsp; &nbsp; &nbsp; xopt, fopt, info = minimize(objective!, x0, ng, lx, ux, lg, ug, options)\n",
    "\n",
    "&nbsp; &nbsp; &nbsp; &nbsp; &nbsp; &nbsp; &nbsp; &nbsp; &nbsp; &nbsp; &nbsp; &nbsp; get price from outputs\n",
    "\n",
    "&nbsp; &nbsp; &nbsp; &nbsp; &nbsp; &nbsp; &nbsp; &nbsp; &nbsp; &nbsp; &nbsp; &nbsp; if price is < bssf.price\n",
    "\n",
    "&nbsp; &nbsp; &nbsp; &nbsp; &nbsp; &nbsp; &nbsp; &nbsp; &nbsp; &nbsp; &nbsp; &nbsp; &nbsp; &nbsp; &nbsp; &nbsp; update bssf\n",
    "\n",
    "&nbsp; &nbsp; &nbsp; &nbsp; &nbsp; &nbsp; &nbsp; &nbsp; &nbsp; &nbsp; &nbsp; &nbsp; end\n",
    "\n",
    "&nbsp; &nbsp; &nbsp; &nbsp; &nbsp; &nbsp; &nbsp; &nbsp; end\n",
    "\n",
    "&nbsp; &nbsp; &nbsp; &nbsp; end\n",
    "\n",
    "end\n",
    "\n",
    "display bssf\n"
   ]
  }
 ],
 "metadata": {
  "kernelspec": {
   "display_name": "Julia 1.10.4",
   "language": "julia",
   "name": "julia-1.10"
  },
  "language_info": {
   "file_extension": ".jl",
   "mimetype": "application/julia",
   "name": "julia",
   "version": "1.10.4"
  }
 },
 "nbformat": 4,
 "nbformat_minor": 2
}
